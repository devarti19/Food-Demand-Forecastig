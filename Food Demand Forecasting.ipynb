{
 "cells": [
  {
   "cell_type": "code",
   "execution_count": null,
   "metadata": {},
   "outputs": [],
   "source": [
    "#pip install catboost"
   ]
  },
  {
   "cell_type": "code",
   "execution_count": 1,
   "metadata": {},
   "outputs": [
    {
     "name": "stderr",
     "output_type": "stream",
     "text": [
      "C:\\Users\\91758\\AppData\\Local\\Continuum\\anaconda3\\lib\\site-packages\\dask\\config.py:168: YAMLLoadWarning: calling yaml.load() without Loader=... is deprecated, as the default Loader is unsafe. Please read https://msg.pyyaml.org/load for full details.\n",
      "  data = yaml.load(f.read()) or {}\n",
      "C:\\Users\\91758\\AppData\\Local\\Continuum\\anaconda3\\lib\\site-packages\\distributed\\config.py:20: YAMLLoadWarning: calling yaml.load() without Loader=... is deprecated, as the default Loader is unsafe. Please read https://msg.pyyaml.org/load for full details.\n",
      "  defaults = yaml.load(f)\n"
     ]
    }
   ],
   "source": [
    "import numpy as np\n",
    "import pandas as pd\n",
    "import matplotlib.pyplot as plt\n",
    "import seaborn as sns\n",
    "from scipy.stats import mode\n",
    "from sklearn.model_selection import train_test_split, KFold, StratifiedKFold\n",
    "from sklearn.preprocessing import LabelEncoder\n",
    "from sklearn.preprocessing import PolynomialFeatures, StandardScaler\n",
    "from sklearn.linear_model import LinearRegression, Lasso, Ridge\n",
    "from sklearn.tree import DecisionTreeRegressor\n",
    "from sklearn.ensemble import RandomForestRegressor, GradientBoostingRegressor, AdaBoostRegressor\n",
    "from sklearn.metrics import mean_squared_error, r2_score, mean_squared_log_error\n",
    "from xgboost import XGBRegressor\n",
    "#from catboost import CatBoostRegressor\n",
    "#from catboost import Pool"
   ]
  },
  {
   "cell_type": "markdown",
   "metadata": {},
   "source": [
    "#### Data Exploration"
   ]
  },
  {
   "cell_type": "code",
   "execution_count": 2,
   "metadata": {},
   "outputs": [],
   "source": [
    "weekly_data= pd.read_csv(r\"C:\\Users\\91758\\Downloads\\Food Demand Forecasting\\train_GzS76OK\\train.csv\")"
   ]
  },
  {
   "cell_type": "code",
   "execution_count": 3,
   "metadata": {},
   "outputs": [],
   "source": [
    "meal= pd.read_csv(r\"C:\\Users\\91758\\Downloads\\Food Demand Forecasting\\train_GzS76OK\\meal_info.csv\")"
   ]
  },
  {
   "cell_type": "code",
   "execution_count": 4,
   "metadata": {},
   "outputs": [],
   "source": [
    "fulfilment= pd.read_csv(r\"C:\\Users\\91758\\Downloads\\Food Demand Forecasting\\train_GzS76OK\\fulfilment_center_info.csv\")"
   ]
  },
  {
   "cell_type": "code",
   "execution_count": 5,
   "metadata": {},
   "outputs": [
    {
     "data": {
      "text/html": [
       "<div>\n",
       "<style scoped>\n",
       "    .dataframe tbody tr th:only-of-type {\n",
       "        vertical-align: middle;\n",
       "    }\n",
       "\n",
       "    .dataframe tbody tr th {\n",
       "        vertical-align: top;\n",
       "    }\n",
       "\n",
       "    .dataframe thead th {\n",
       "        text-align: right;\n",
       "    }\n",
       "</style>\n",
       "<table border=\"1\" class=\"dataframe\">\n",
       "  <thead>\n",
       "    <tr style=\"text-align: right;\">\n",
       "      <th></th>\n",
       "      <th>id</th>\n",
       "      <th>week</th>\n",
       "      <th>center_id</th>\n",
       "      <th>meal_id</th>\n",
       "      <th>checkout_price</th>\n",
       "      <th>base_price</th>\n",
       "      <th>emailer_for_promotion</th>\n",
       "      <th>homepage_featured</th>\n",
       "      <th>num_orders</th>\n",
       "    </tr>\n",
       "  </thead>\n",
       "  <tbody>\n",
       "    <tr>\n",
       "      <th>0</th>\n",
       "      <td>1379560</td>\n",
       "      <td>1</td>\n",
       "      <td>55</td>\n",
       "      <td>1885</td>\n",
       "      <td>136.83</td>\n",
       "      <td>152.29</td>\n",
       "      <td>0</td>\n",
       "      <td>0</td>\n",
       "      <td>177</td>\n",
       "    </tr>\n",
       "    <tr>\n",
       "      <th>1</th>\n",
       "      <td>1466964</td>\n",
       "      <td>1</td>\n",
       "      <td>55</td>\n",
       "      <td>1993</td>\n",
       "      <td>136.83</td>\n",
       "      <td>135.83</td>\n",
       "      <td>0</td>\n",
       "      <td>0</td>\n",
       "      <td>270</td>\n",
       "    </tr>\n",
       "    <tr>\n",
       "      <th>2</th>\n",
       "      <td>1346989</td>\n",
       "      <td>1</td>\n",
       "      <td>55</td>\n",
       "      <td>2539</td>\n",
       "      <td>134.86</td>\n",
       "      <td>135.86</td>\n",
       "      <td>0</td>\n",
       "      <td>0</td>\n",
       "      <td>189</td>\n",
       "    </tr>\n",
       "    <tr>\n",
       "      <th>3</th>\n",
       "      <td>1338232</td>\n",
       "      <td>1</td>\n",
       "      <td>55</td>\n",
       "      <td>2139</td>\n",
       "      <td>339.50</td>\n",
       "      <td>437.53</td>\n",
       "      <td>0</td>\n",
       "      <td>0</td>\n",
       "      <td>54</td>\n",
       "    </tr>\n",
       "    <tr>\n",
       "      <th>4</th>\n",
       "      <td>1448490</td>\n",
       "      <td>1</td>\n",
       "      <td>55</td>\n",
       "      <td>2631</td>\n",
       "      <td>243.50</td>\n",
       "      <td>242.50</td>\n",
       "      <td>0</td>\n",
       "      <td>0</td>\n",
       "      <td>40</td>\n",
       "    </tr>\n",
       "  </tbody>\n",
       "</table>\n",
       "</div>"
      ],
      "text/plain": [
       "        id  week  center_id  meal_id  checkout_price  base_price  \\\n",
       "0  1379560     1         55     1885          136.83      152.29   \n",
       "1  1466964     1         55     1993          136.83      135.83   \n",
       "2  1346989     1         55     2539          134.86      135.86   \n",
       "3  1338232     1         55     2139          339.50      437.53   \n",
       "4  1448490     1         55     2631          243.50      242.50   \n",
       "\n",
       "   emailer_for_promotion  homepage_featured  num_orders  \n",
       "0                      0                  0         177  \n",
       "1                      0                  0         270  \n",
       "2                      0                  0         189  \n",
       "3                      0                  0          54  \n",
       "4                      0                  0          40  "
      ]
     },
     "execution_count": 5,
     "metadata": {},
     "output_type": "execute_result"
    }
   ],
   "source": [
    "weekly_data.head()"
   ]
  },
  {
   "cell_type": "code",
   "execution_count": 6,
   "metadata": {},
   "outputs": [
    {
     "data": {
      "text/plain": [
       "(456548, 9)"
      ]
     },
     "execution_count": 6,
     "metadata": {},
     "output_type": "execute_result"
    }
   ],
   "source": [
    "weekly_data.shape"
   ]
  },
  {
   "cell_type": "code",
   "execution_count": 7,
   "metadata": {},
   "outputs": [
    {
     "data": {
      "text/html": [
       "<div>\n",
       "<style scoped>\n",
       "    .dataframe tbody tr th:only-of-type {\n",
       "        vertical-align: middle;\n",
       "    }\n",
       "\n",
       "    .dataframe tbody tr th {\n",
       "        vertical-align: top;\n",
       "    }\n",
       "\n",
       "    .dataframe thead th {\n",
       "        text-align: right;\n",
       "    }\n",
       "</style>\n",
       "<table border=\"1\" class=\"dataframe\">\n",
       "  <thead>\n",
       "    <tr style=\"text-align: right;\">\n",
       "      <th></th>\n",
       "      <th>meal_id</th>\n",
       "      <th>category</th>\n",
       "      <th>cuisine</th>\n",
       "    </tr>\n",
       "  </thead>\n",
       "  <tbody>\n",
       "    <tr>\n",
       "      <th>0</th>\n",
       "      <td>1885</td>\n",
       "      <td>Beverages</td>\n",
       "      <td>Thai</td>\n",
       "    </tr>\n",
       "    <tr>\n",
       "      <th>1</th>\n",
       "      <td>1993</td>\n",
       "      <td>Beverages</td>\n",
       "      <td>Thai</td>\n",
       "    </tr>\n",
       "    <tr>\n",
       "      <th>2</th>\n",
       "      <td>2539</td>\n",
       "      <td>Beverages</td>\n",
       "      <td>Thai</td>\n",
       "    </tr>\n",
       "    <tr>\n",
       "      <th>3</th>\n",
       "      <td>1248</td>\n",
       "      <td>Beverages</td>\n",
       "      <td>Indian</td>\n",
       "    </tr>\n",
       "    <tr>\n",
       "      <th>4</th>\n",
       "      <td>2631</td>\n",
       "      <td>Beverages</td>\n",
       "      <td>Indian</td>\n",
       "    </tr>\n",
       "  </tbody>\n",
       "</table>\n",
       "</div>"
      ],
      "text/plain": [
       "   meal_id   category cuisine\n",
       "0     1885  Beverages    Thai\n",
       "1     1993  Beverages    Thai\n",
       "2     2539  Beverages    Thai\n",
       "3     1248  Beverages  Indian\n",
       "4     2631  Beverages  Indian"
      ]
     },
     "execution_count": 7,
     "metadata": {},
     "output_type": "execute_result"
    }
   ],
   "source": [
    "meal.head()"
   ]
  },
  {
   "cell_type": "code",
   "execution_count": 8,
   "metadata": {},
   "outputs": [
    {
     "data": {
      "text/plain": [
       "(51, 3)"
      ]
     },
     "execution_count": 8,
     "metadata": {},
     "output_type": "execute_result"
    }
   ],
   "source": [
    "meal.shape"
   ]
  },
  {
   "cell_type": "code",
   "execution_count": 9,
   "metadata": {},
   "outputs": [
    {
     "data": {
      "text/html": [
       "<div>\n",
       "<style scoped>\n",
       "    .dataframe tbody tr th:only-of-type {\n",
       "        vertical-align: middle;\n",
       "    }\n",
       "\n",
       "    .dataframe tbody tr th {\n",
       "        vertical-align: top;\n",
       "    }\n",
       "\n",
       "    .dataframe thead th {\n",
       "        text-align: right;\n",
       "    }\n",
       "</style>\n",
       "<table border=\"1\" class=\"dataframe\">\n",
       "  <thead>\n",
       "    <tr style=\"text-align: right;\">\n",
       "      <th></th>\n",
       "      <th>center_id</th>\n",
       "      <th>city_code</th>\n",
       "      <th>region_code</th>\n",
       "      <th>center_type</th>\n",
       "      <th>op_area</th>\n",
       "    </tr>\n",
       "  </thead>\n",
       "  <tbody>\n",
       "    <tr>\n",
       "      <th>0</th>\n",
       "      <td>11</td>\n",
       "      <td>679</td>\n",
       "      <td>56</td>\n",
       "      <td>TYPE_A</td>\n",
       "      <td>3.7</td>\n",
       "    </tr>\n",
       "    <tr>\n",
       "      <th>1</th>\n",
       "      <td>13</td>\n",
       "      <td>590</td>\n",
       "      <td>56</td>\n",
       "      <td>TYPE_B</td>\n",
       "      <td>6.7</td>\n",
       "    </tr>\n",
       "    <tr>\n",
       "      <th>2</th>\n",
       "      <td>124</td>\n",
       "      <td>590</td>\n",
       "      <td>56</td>\n",
       "      <td>TYPE_C</td>\n",
       "      <td>4.0</td>\n",
       "    </tr>\n",
       "    <tr>\n",
       "      <th>3</th>\n",
       "      <td>66</td>\n",
       "      <td>648</td>\n",
       "      <td>34</td>\n",
       "      <td>TYPE_A</td>\n",
       "      <td>4.1</td>\n",
       "    </tr>\n",
       "    <tr>\n",
       "      <th>4</th>\n",
       "      <td>94</td>\n",
       "      <td>632</td>\n",
       "      <td>34</td>\n",
       "      <td>TYPE_C</td>\n",
       "      <td>3.6</td>\n",
       "    </tr>\n",
       "  </tbody>\n",
       "</table>\n",
       "</div>"
      ],
      "text/plain": [
       "   center_id  city_code  region_code center_type  op_area\n",
       "0         11        679           56      TYPE_A      3.7\n",
       "1         13        590           56      TYPE_B      6.7\n",
       "2        124        590           56      TYPE_C      4.0\n",
       "3         66        648           34      TYPE_A      4.1\n",
       "4         94        632           34      TYPE_C      3.6"
      ]
     },
     "execution_count": 9,
     "metadata": {},
     "output_type": "execute_result"
    }
   ],
   "source": [
    "fulfilment.head()"
   ]
  },
  {
   "cell_type": "code",
   "execution_count": 10,
   "metadata": {},
   "outputs": [
    {
     "data": {
      "text/plain": [
       "(77, 5)"
      ]
     },
     "execution_count": 10,
     "metadata": {},
     "output_type": "execute_result"
    }
   ],
   "source": [
    "fulfilment.shape"
   ]
  },
  {
   "cell_type": "code",
   "execution_count": 11,
   "metadata": {},
   "outputs": [],
   "source": [
    "df= pd.merge(weekly_data,fulfilment, on='center_id')"
   ]
  },
  {
   "cell_type": "code",
   "execution_count": 12,
   "metadata": {},
   "outputs": [],
   "source": [
    "df= pd.merge(df,meal, on='meal_id')"
   ]
  },
  {
   "cell_type": "code",
   "execution_count": 13,
   "metadata": {},
   "outputs": [
    {
     "data": {
      "text/html": [
       "<div>\n",
       "<style scoped>\n",
       "    .dataframe tbody tr th:only-of-type {\n",
       "        vertical-align: middle;\n",
       "    }\n",
       "\n",
       "    .dataframe tbody tr th {\n",
       "        vertical-align: top;\n",
       "    }\n",
       "\n",
       "    .dataframe thead th {\n",
       "        text-align: right;\n",
       "    }\n",
       "</style>\n",
       "<table border=\"1\" class=\"dataframe\">\n",
       "  <thead>\n",
       "    <tr style=\"text-align: right;\">\n",
       "      <th></th>\n",
       "      <th>id</th>\n",
       "      <th>week</th>\n",
       "      <th>center_id</th>\n",
       "      <th>meal_id</th>\n",
       "      <th>checkout_price</th>\n",
       "      <th>base_price</th>\n",
       "      <th>emailer_for_promotion</th>\n",
       "      <th>homepage_featured</th>\n",
       "      <th>num_orders</th>\n",
       "      <th>city_code</th>\n",
       "      <th>region_code</th>\n",
       "      <th>center_type</th>\n",
       "      <th>op_area</th>\n",
       "      <th>category</th>\n",
       "      <th>cuisine</th>\n",
       "    </tr>\n",
       "  </thead>\n",
       "  <tbody>\n",
       "    <tr>\n",
       "      <th>0</th>\n",
       "      <td>1379560</td>\n",
       "      <td>1</td>\n",
       "      <td>55</td>\n",
       "      <td>1885</td>\n",
       "      <td>136.83</td>\n",
       "      <td>152.29</td>\n",
       "      <td>0</td>\n",
       "      <td>0</td>\n",
       "      <td>177</td>\n",
       "      <td>647</td>\n",
       "      <td>56</td>\n",
       "      <td>TYPE_C</td>\n",
       "      <td>2.0</td>\n",
       "      <td>Beverages</td>\n",
       "      <td>Thai</td>\n",
       "    </tr>\n",
       "    <tr>\n",
       "      <th>1</th>\n",
       "      <td>1018704</td>\n",
       "      <td>2</td>\n",
       "      <td>55</td>\n",
       "      <td>1885</td>\n",
       "      <td>135.83</td>\n",
       "      <td>152.29</td>\n",
       "      <td>0</td>\n",
       "      <td>0</td>\n",
       "      <td>323</td>\n",
       "      <td>647</td>\n",
       "      <td>56</td>\n",
       "      <td>TYPE_C</td>\n",
       "      <td>2.0</td>\n",
       "      <td>Beverages</td>\n",
       "      <td>Thai</td>\n",
       "    </tr>\n",
       "    <tr>\n",
       "      <th>2</th>\n",
       "      <td>1196273</td>\n",
       "      <td>3</td>\n",
       "      <td>55</td>\n",
       "      <td>1885</td>\n",
       "      <td>132.92</td>\n",
       "      <td>133.92</td>\n",
       "      <td>0</td>\n",
       "      <td>0</td>\n",
       "      <td>96</td>\n",
       "      <td>647</td>\n",
       "      <td>56</td>\n",
       "      <td>TYPE_C</td>\n",
       "      <td>2.0</td>\n",
       "      <td>Beverages</td>\n",
       "      <td>Thai</td>\n",
       "    </tr>\n",
       "    <tr>\n",
       "      <th>3</th>\n",
       "      <td>1116527</td>\n",
       "      <td>4</td>\n",
       "      <td>55</td>\n",
       "      <td>1885</td>\n",
       "      <td>135.86</td>\n",
       "      <td>134.86</td>\n",
       "      <td>0</td>\n",
       "      <td>0</td>\n",
       "      <td>163</td>\n",
       "      <td>647</td>\n",
       "      <td>56</td>\n",
       "      <td>TYPE_C</td>\n",
       "      <td>2.0</td>\n",
       "      <td>Beverages</td>\n",
       "      <td>Thai</td>\n",
       "    </tr>\n",
       "    <tr>\n",
       "      <th>4</th>\n",
       "      <td>1343872</td>\n",
       "      <td>5</td>\n",
       "      <td>55</td>\n",
       "      <td>1885</td>\n",
       "      <td>146.50</td>\n",
       "      <td>147.50</td>\n",
       "      <td>0</td>\n",
       "      <td>0</td>\n",
       "      <td>215</td>\n",
       "      <td>647</td>\n",
       "      <td>56</td>\n",
       "      <td>TYPE_C</td>\n",
       "      <td>2.0</td>\n",
       "      <td>Beverages</td>\n",
       "      <td>Thai</td>\n",
       "    </tr>\n",
       "  </tbody>\n",
       "</table>\n",
       "</div>"
      ],
      "text/plain": [
       "        id  week  center_id  meal_id  checkout_price  base_price  \\\n",
       "0  1379560     1         55     1885          136.83      152.29   \n",
       "1  1018704     2         55     1885          135.83      152.29   \n",
       "2  1196273     3         55     1885          132.92      133.92   \n",
       "3  1116527     4         55     1885          135.86      134.86   \n",
       "4  1343872     5         55     1885          146.50      147.50   \n",
       "\n",
       "   emailer_for_promotion  homepage_featured  num_orders  city_code  \\\n",
       "0                      0                  0         177        647   \n",
       "1                      0                  0         323        647   \n",
       "2                      0                  0          96        647   \n",
       "3                      0                  0         163        647   \n",
       "4                      0                  0         215        647   \n",
       "\n",
       "   region_code center_type  op_area   category cuisine  \n",
       "0           56      TYPE_C      2.0  Beverages    Thai  \n",
       "1           56      TYPE_C      2.0  Beverages    Thai  \n",
       "2           56      TYPE_C      2.0  Beverages    Thai  \n",
       "3           56      TYPE_C      2.0  Beverages    Thai  \n",
       "4           56      TYPE_C      2.0  Beverages    Thai  "
      ]
     },
     "execution_count": 13,
     "metadata": {},
     "output_type": "execute_result"
    }
   ],
   "source": [
    "df.head()"
   ]
  },
  {
   "cell_type": "code",
   "execution_count": 14,
   "metadata": {},
   "outputs": [
    {
     "data": {
      "text/plain": [
       "(456548, 15)"
      ]
     },
     "execution_count": 14,
     "metadata": {},
     "output_type": "execute_result"
    }
   ],
   "source": [
    "df.shape"
   ]
  },
  {
   "cell_type": "code",
   "execution_count": 15,
   "metadata": {},
   "outputs": [
    {
     "name": "stdout",
     "output_type": "stream",
     "text": [
      "<class 'pandas.core.frame.DataFrame'>\n",
      "Int64Index: 456548 entries, 0 to 456547\n",
      "Data columns (total 15 columns):\n",
      "id                       456548 non-null int64\n",
      "week                     456548 non-null int64\n",
      "center_id                456548 non-null int64\n",
      "meal_id                  456548 non-null int64\n",
      "checkout_price           456548 non-null float64\n",
      "base_price               456548 non-null float64\n",
      "emailer_for_promotion    456548 non-null int64\n",
      "homepage_featured        456548 non-null int64\n",
      "num_orders               456548 non-null int64\n",
      "city_code                456548 non-null int64\n",
      "region_code              456548 non-null int64\n",
      "center_type              456548 non-null object\n",
      "op_area                  456548 non-null float64\n",
      "category                 456548 non-null object\n",
      "cuisine                  456548 non-null object\n",
      "dtypes: float64(3), int64(9), object(3)\n",
      "memory usage: 55.7+ MB\n"
     ]
    }
   ],
   "source": [
    "df.info()"
   ]
  },
  {
   "cell_type": "code",
   "execution_count": 16,
   "metadata": {},
   "outputs": [
    {
     "data": {
      "text/html": [
       "<div>\n",
       "<style scoped>\n",
       "    .dataframe tbody tr th:only-of-type {\n",
       "        vertical-align: middle;\n",
       "    }\n",
       "\n",
       "    .dataframe tbody tr th {\n",
       "        vertical-align: top;\n",
       "    }\n",
       "\n",
       "    .dataframe thead th {\n",
       "        text-align: right;\n",
       "    }\n",
       "</style>\n",
       "<table border=\"1\" class=\"dataframe\">\n",
       "  <thead>\n",
       "    <tr style=\"text-align: right;\">\n",
       "      <th></th>\n",
       "      <th>id</th>\n",
       "      <th>week</th>\n",
       "      <th>center_id</th>\n",
       "      <th>meal_id</th>\n",
       "      <th>checkout_price</th>\n",
       "      <th>base_price</th>\n",
       "      <th>emailer_for_promotion</th>\n",
       "      <th>homepage_featured</th>\n",
       "      <th>num_orders</th>\n",
       "      <th>city_code</th>\n",
       "      <th>region_code</th>\n",
       "      <th>op_area</th>\n",
       "    </tr>\n",
       "  </thead>\n",
       "  <tbody>\n",
       "    <tr>\n",
       "      <th>count</th>\n",
       "      <td>4.565480e+05</td>\n",
       "      <td>456548.000000</td>\n",
       "      <td>456548.000000</td>\n",
       "      <td>456548.000000</td>\n",
       "      <td>456548.000000</td>\n",
       "      <td>456548.000000</td>\n",
       "      <td>456548.000000</td>\n",
       "      <td>456548.00000</td>\n",
       "      <td>456548.000000</td>\n",
       "      <td>456548.000000</td>\n",
       "      <td>456548.000000</td>\n",
       "      <td>456548.000000</td>\n",
       "    </tr>\n",
       "    <tr>\n",
       "      <th>mean</th>\n",
       "      <td>1.250096e+06</td>\n",
       "      <td>74.768771</td>\n",
       "      <td>82.105796</td>\n",
       "      <td>2024.337458</td>\n",
       "      <td>332.238933</td>\n",
       "      <td>354.156627</td>\n",
       "      <td>0.081152</td>\n",
       "      <td>0.10920</td>\n",
       "      <td>261.872760</td>\n",
       "      <td>601.553399</td>\n",
       "      <td>56.614566</td>\n",
       "      <td>4.083590</td>\n",
       "    </tr>\n",
       "    <tr>\n",
       "      <th>std</th>\n",
       "      <td>1.443548e+05</td>\n",
       "      <td>41.524956</td>\n",
       "      <td>45.975046</td>\n",
       "      <td>547.420920</td>\n",
       "      <td>152.939723</td>\n",
       "      <td>160.715914</td>\n",
       "      <td>0.273069</td>\n",
       "      <td>0.31189</td>\n",
       "      <td>395.922798</td>\n",
       "      <td>66.195914</td>\n",
       "      <td>17.641306</td>\n",
       "      <td>1.091686</td>\n",
       "    </tr>\n",
       "    <tr>\n",
       "      <th>min</th>\n",
       "      <td>1.000000e+06</td>\n",
       "      <td>1.000000</td>\n",
       "      <td>10.000000</td>\n",
       "      <td>1062.000000</td>\n",
       "      <td>2.970000</td>\n",
       "      <td>55.350000</td>\n",
       "      <td>0.000000</td>\n",
       "      <td>0.00000</td>\n",
       "      <td>13.000000</td>\n",
       "      <td>456.000000</td>\n",
       "      <td>23.000000</td>\n",
       "      <td>0.900000</td>\n",
       "    </tr>\n",
       "    <tr>\n",
       "      <th>25%</th>\n",
       "      <td>1.124999e+06</td>\n",
       "      <td>39.000000</td>\n",
       "      <td>43.000000</td>\n",
       "      <td>1558.000000</td>\n",
       "      <td>228.950000</td>\n",
       "      <td>243.500000</td>\n",
       "      <td>0.000000</td>\n",
       "      <td>0.00000</td>\n",
       "      <td>54.000000</td>\n",
       "      <td>553.000000</td>\n",
       "      <td>34.000000</td>\n",
       "      <td>3.600000</td>\n",
       "    </tr>\n",
       "    <tr>\n",
       "      <th>50%</th>\n",
       "      <td>1.250184e+06</td>\n",
       "      <td>76.000000</td>\n",
       "      <td>76.000000</td>\n",
       "      <td>1993.000000</td>\n",
       "      <td>296.820000</td>\n",
       "      <td>310.460000</td>\n",
       "      <td>0.000000</td>\n",
       "      <td>0.00000</td>\n",
       "      <td>136.000000</td>\n",
       "      <td>596.000000</td>\n",
       "      <td>56.000000</td>\n",
       "      <td>4.000000</td>\n",
       "    </tr>\n",
       "    <tr>\n",
       "      <th>75%</th>\n",
       "      <td>1.375140e+06</td>\n",
       "      <td>111.000000</td>\n",
       "      <td>110.000000</td>\n",
       "      <td>2539.000000</td>\n",
       "      <td>445.230000</td>\n",
       "      <td>458.870000</td>\n",
       "      <td>0.000000</td>\n",
       "      <td>0.00000</td>\n",
       "      <td>324.000000</td>\n",
       "      <td>651.000000</td>\n",
       "      <td>77.000000</td>\n",
       "      <td>4.500000</td>\n",
       "    </tr>\n",
       "    <tr>\n",
       "      <th>max</th>\n",
       "      <td>1.499999e+06</td>\n",
       "      <td>145.000000</td>\n",
       "      <td>186.000000</td>\n",
       "      <td>2956.000000</td>\n",
       "      <td>866.270000</td>\n",
       "      <td>866.270000</td>\n",
       "      <td>1.000000</td>\n",
       "      <td>1.00000</td>\n",
       "      <td>24299.000000</td>\n",
       "      <td>713.000000</td>\n",
       "      <td>93.000000</td>\n",
       "      <td>7.000000</td>\n",
       "    </tr>\n",
       "  </tbody>\n",
       "</table>\n",
       "</div>"
      ],
      "text/plain": [
       "                 id           week      center_id        meal_id  \\\n",
       "count  4.565480e+05  456548.000000  456548.000000  456548.000000   \n",
       "mean   1.250096e+06      74.768771      82.105796    2024.337458   \n",
       "std    1.443548e+05      41.524956      45.975046     547.420920   \n",
       "min    1.000000e+06       1.000000      10.000000    1062.000000   \n",
       "25%    1.124999e+06      39.000000      43.000000    1558.000000   \n",
       "50%    1.250184e+06      76.000000      76.000000    1993.000000   \n",
       "75%    1.375140e+06     111.000000     110.000000    2539.000000   \n",
       "max    1.499999e+06     145.000000     186.000000    2956.000000   \n",
       "\n",
       "       checkout_price     base_price  emailer_for_promotion  \\\n",
       "count   456548.000000  456548.000000          456548.000000   \n",
       "mean       332.238933     354.156627               0.081152   \n",
       "std        152.939723     160.715914               0.273069   \n",
       "min          2.970000      55.350000               0.000000   \n",
       "25%        228.950000     243.500000               0.000000   \n",
       "50%        296.820000     310.460000               0.000000   \n",
       "75%        445.230000     458.870000               0.000000   \n",
       "max        866.270000     866.270000               1.000000   \n",
       "\n",
       "       homepage_featured     num_orders      city_code    region_code  \\\n",
       "count       456548.00000  456548.000000  456548.000000  456548.000000   \n",
       "mean             0.10920     261.872760     601.553399      56.614566   \n",
       "std              0.31189     395.922798      66.195914      17.641306   \n",
       "min              0.00000      13.000000     456.000000      23.000000   \n",
       "25%              0.00000      54.000000     553.000000      34.000000   \n",
       "50%              0.00000     136.000000     596.000000      56.000000   \n",
       "75%              0.00000     324.000000     651.000000      77.000000   \n",
       "max              1.00000   24299.000000     713.000000      93.000000   \n",
       "\n",
       "             op_area  \n",
       "count  456548.000000  \n",
       "mean        4.083590  \n",
       "std         1.091686  \n",
       "min         0.900000  \n",
       "25%         3.600000  \n",
       "50%         4.000000  \n",
       "75%         4.500000  \n",
       "max         7.000000  "
      ]
     },
     "execution_count": 16,
     "metadata": {},
     "output_type": "execute_result"
    }
   ],
   "source": [
    "df.describe()"
   ]
  },
  {
   "cell_type": "code",
   "execution_count": 17,
   "metadata": {},
   "outputs": [
    {
     "data": {
      "text/plain": [
       "145"
      ]
     },
     "execution_count": 17,
     "metadata": {},
     "output_type": "execute_result"
    }
   ],
   "source": [
    "df['week'].nunique()"
   ]
  },
  {
   "cell_type": "code",
   "execution_count": 18,
   "metadata": {},
   "outputs": [
    {
     "name": "stdout",
     "output_type": "stream",
     "text": [
      "center_id\n",
      "13     7046\n",
      "10     7015\n",
      "52     6993\n",
      "43     6970\n",
      "67     6915\n",
      "137    6894\n",
      "174    6891\n",
      "51     6880\n",
      "27     6853\n",
      "108    6843\n",
      "11     6801\n",
      "132    6788\n",
      "36     6776\n",
      "59     6716\n",
      "89     6706\n",
      "153    6696\n",
      "104    6687\n",
      "20     6671\n",
      "30     6666\n",
      "53     6538\n",
      "23     6434\n",
      "80     6396\n",
      "126    6389\n",
      "17     6333\n",
      "109    6296\n",
      "99     6293\n",
      "72     6252\n",
      "101    6172\n",
      "146    6164\n",
      "76     6099\n",
      "       ... \n",
      "42     5846\n",
      "93     5763\n",
      "145    5732\n",
      "157    5721\n",
      "106    5715\n",
      "110    5712\n",
      "88     5608\n",
      "161    5591\n",
      "64     5547\n",
      "73     5536\n",
      "186    5528\n",
      "29     5438\n",
      "113    5379\n",
      "39     5377\n",
      "58     5296\n",
      "177    5296\n",
      "94     5292\n",
      "74     5264\n",
      "77     5250\n",
      "24     5233\n",
      "55     5146\n",
      "26     5085\n",
      "149    5021\n",
      "102    4939\n",
      "92     4712\n",
      "139    4627\n",
      "57     4501\n",
      "162    4366\n",
      "41     4083\n",
      "91     3432\n",
      "Name: center_id, Length: 77, dtype: int64\n",
      "----------------------------------------------------------\n",
      "meal_id\n",
      "2290    11138\n",
      "1062    11137\n",
      "1727    11136\n",
      "1109    11134\n",
      "1754    11132\n",
      "2707    11123\n",
      "1778    11121\n",
      "1993    11116\n",
      "1962    11114\n",
      "1971    11102\n",
      "1885    11092\n",
      "2581    11072\n",
      "2826    11057\n",
      "2322    11002\n",
      "1558    10952\n",
      "1207    10806\n",
      "2640    10747\n",
      "1230    10746\n",
      "1878    10527\n",
      "2631    10458\n",
      "2539    10451\n",
      "1543    10236\n",
      "2760    10209\n",
      "1248     9939\n",
      "2664     9853\n",
      "2704     9811\n",
      "1445     9727\n",
      "2126     9705\n",
      "1216     9695\n",
      "2304     9676\n",
      "2569     9459\n",
      "2492     9382\n",
      "1525     9359\n",
      "2490     9247\n",
      "2444     9097\n",
      "2139     8899\n",
      "2577     8667\n",
      "2306     8294\n",
      "2867     8092\n",
      "1247     7184\n",
      "1902     6748\n",
      "1770     6682\n",
      "1311     4682\n",
      "1803     4674\n",
      "1571     4511\n",
      "1438     4385\n",
      "2494     4206\n",
      "1198     4206\n",
      "1847     4084\n",
      "2956     3319\n",
      "2104     2357\n",
      "Name: meal_id, dtype: int64\n",
      "----------------------------------------------------------\n",
      "city_code\n",
      "590    54746\n",
      "526    43525\n",
      "638    20047\n",
      "522    13459\n",
      "517    13109\n",
      "604    13062\n",
      "699    12098\n",
      "647    11833\n",
      "576    11456\n",
      "614    11332\n",
      "676    11177\n",
      "593    10804\n",
      "685     6993\n",
      "700     6891\n",
      "713     6853\n",
      "579     6843\n",
      "679     6801\n",
      "456     6716\n",
      "703     6706\n",
      "698     6434\n",
      "577     6389\n",
      "599     6296\n",
      "596     6293\n",
      "648     6090\n",
      "602     6057\n",
      "659     6053\n",
      "654     6041\n",
      "628     5983\n",
      "651     5975\n",
      "562     5938\n",
      "615     5892\n",
      "556     5885\n",
      "473     5855\n",
      "561     5846\n",
      "461     5763\n",
      "620     5732\n",
      "609     5721\n",
      "675     5715\n",
      "485     5712\n",
      "658     5591\n",
      "553     5547\n",
      "649     5528\n",
      "680     5379\n",
      "683     5296\n",
      "695     5296\n",
      "632     5292\n",
      "702     5264\n",
      "515     5085\n",
      "478     5021\n",
      "693     4627\n",
      "541     4501\n",
      "Name: city_code, dtype: int64\n",
      "----------------------------------------------------------\n",
      "region_code\n",
      "56    191228\n",
      "34    116713\n",
      "77     94612\n",
      "85     30283\n",
      "23      6434\n",
      "71      6293\n",
      "93      5721\n",
      "35      5264\n",
      "Name: region_code, dtype: int64\n",
      "----------------------------------------------------------\n",
      "center_type\n",
      "TYPE_A    262881\n",
      "TYPE_C     99593\n",
      "TYPE_B     94074\n",
      "Name: center_type, dtype: int64\n",
      "----------------------------------------------------------\n",
      "op_area\n",
      "4.0    52548\n",
      "3.9    48533\n",
      "3.8    40080\n",
      "4.4    26060\n",
      "4.5    25688\n",
      "2.8    25503\n",
      "4.1    23346\n",
      "7.0    20686\n",
      "4.8    18648\n",
      "3.4    17258\n",
      "3.6    16821\n",
      "5.1    13366\n",
      "4.2    12608\n",
      "2.7    12430\n",
      "3.0    11184\n",
      "2.0     9512\n",
      "6.7     7046\n",
      "6.3     7015\n",
      "5.6     6993\n",
      "3.7     6801\n",
      "3.5     6666\n",
      "3.2     6333\n",
      "5.0     6164\n",
      "5.3     6053\n",
      "4.6     5983\n",
      "4.7     5975\n",
      "2.4     5021\n",
      "2.9     4712\n",
      "1.9     4083\n",
      "0.9     3432\n",
      "Name: op_area, dtype: int64\n",
      "----------------------------------------------------------\n",
      "category\n",
      "Beverages       127890\n",
      "Rice Bowl        33408\n",
      "Sandwich         33291\n",
      "Pizza            33138\n",
      "Starters         29941\n",
      "Other Snacks     29379\n",
      "Desert           29294\n",
      "Salad            28559\n",
      "Pasta            27694\n",
      "Seafood          26916\n",
      "Biryani          20614\n",
      "Extras           13562\n",
      "Soup             12675\n",
      "Fish             10187\n",
      "Name: category, dtype: int64\n",
      "----------------------------------------------------------\n",
      "cuisine\n",
      "Italian        122925\n",
      "Thai           118216\n",
      "Indian         112612\n",
      "Continental    102795\n",
      "Name: cuisine, dtype: int64\n",
      "----------------------------------------------------------\n"
     ]
    }
   ],
   "source": [
    "l=['center_id','meal_id','city_code','region_code','center_type','op_area','category','cuisine']\n",
    "for i in l:\n",
    "    print(i)\n",
    "    print(df[i].value_counts())\n",
    "    print('----------------------------------------------------------')"
   ]
  },
  {
   "cell_type": "markdown",
   "metadata": {},
   "source": [
    "#### Preprocessing"
   ]
  },
  {
   "cell_type": "code",
   "execution_count": 19,
   "metadata": {},
   "outputs": [
    {
     "data": {
      "text/plain": [
       "<matplotlib.axes._subplots.AxesSubplot at 0x2d890b82438>"
      ]
     },
     "execution_count": 19,
     "metadata": {},
     "output_type": "execute_result"
    },
    {
     "data": {
      "image/png": "[encoded data removed]",
      "text/plain": [
       "<Figure size 720x720 with 1 Axes>"
      ]
     },
     "metadata": {
      "needs_background": "light"
     },
     "output_type": "display_data"
    }
   ],
   "source": [
    "plt.figure(figsize=(10,10))\n",
    "sns.countplot(df['num_orders'], hue=df['cuisine'])"
   ]
  },
  {
   "cell_type": "code",
   "execution_count": 20,
   "metadata": {},
   "outputs": [
    {
     "data": {
      "text/html": [
       "<div>\n",
       "<style scoped>\n",
       "    .dataframe tbody tr th:only-of-type {\n",
       "        vertical-align: middle;\n",
       "    }\n",
       "\n",
       "    .dataframe tbody tr th {\n",
       "        vertical-align: top;\n",
       "    }\n",
       "\n",
       "    .dataframe thead th {\n",
       "        text-align: right;\n",
       "    }\n",
       "</style>\n",
       "<table border=\"1\" class=\"dataframe\">\n",
       "  <thead>\n",
       "    <tr style=\"text-align: right;\">\n",
       "      <th></th>\n",
       "      <th>id</th>\n",
       "      <th>week</th>\n",
       "      <th>center_id</th>\n",
       "      <th>meal_id</th>\n",
       "      <th>checkout_price</th>\n",
       "      <th>base_price</th>\n",
       "      <th>emailer_for_promotion</th>\n",
       "      <th>homepage_featured</th>\n",
       "      <th>num_orders</th>\n",
       "      <th>city_code</th>\n",
       "      <th>region_code</th>\n",
       "      <th>op_area</th>\n",
       "    </tr>\n",
       "  </thead>\n",
       "  <tbody>\n",
       "    <tr>\n",
       "      <th>id</th>\n",
       "      <td>1.000000</td>\n",
       "      <td>0.002225</td>\n",
       "      <td>0.002641</td>\n",
       "      <td>0.000488</td>\n",
       "      <td>0.001941</td>\n",
       "      <td>0.002909</td>\n",
       "      <td>0.002001</td>\n",
       "      <td>0.003111</td>\n",
       "      <td>0.000702</td>\n",
       "      <td>-0.000387</td>\n",
       "      <td>-0.000648</td>\n",
       "      <td>-0.000090</td>\n",
       "    </tr>\n",
       "    <tr>\n",
       "      <th>week</th>\n",
       "      <td>0.002225</td>\n",
       "      <td>1.000000</td>\n",
       "      <td>-0.003450</td>\n",
       "      <td>0.019814</td>\n",
       "      <td>0.026581</td>\n",
       "      <td>0.028614</td>\n",
       "      <td>-0.000841</td>\n",
       "      <td>-0.008263</td>\n",
       "      <td>-0.017210</td>\n",
       "      <td>0.000405</td>\n",
       "      <td>0.004600</td>\n",
       "      <td>0.001550</td>\n",
       "    </tr>\n",
       "    <tr>\n",
       "      <th>center_id</th>\n",
       "      <td>0.002641</td>\n",
       "      <td>-0.003450</td>\n",
       "      <td>1.000000</td>\n",
       "      <td>0.009893</td>\n",
       "      <td>0.001348</td>\n",
       "      <td>0.000604</td>\n",
       "      <td>0.013658</td>\n",
       "      <td>-0.005043</td>\n",
       "      <td>-0.053035</td>\n",
       "      <td>0.061078</td>\n",
       "      <td>-0.003426</td>\n",
       "      <td>-0.111869</td>\n",
       "    </tr>\n",
       "    <tr>\n",
       "      <th>meal_id</th>\n",
       "      <td>0.000488</td>\n",
       "      <td>0.019814</td>\n",
       "      <td>0.009893</td>\n",
       "      <td>1.000000</td>\n",
       "      <td>0.010748</td>\n",
       "      <td>0.002605</td>\n",
       "      <td>0.013402</td>\n",
       "      <td>0.016354</td>\n",
       "      <td>0.010597</td>\n",
       "      <td>-0.003198</td>\n",
       "      <td>-0.001662</td>\n",
       "      <td>-0.001546</td>\n",
       "    </tr>\n",
       "    <tr>\n",
       "      <th>checkout_price</th>\n",
       "      <td>0.001941</td>\n",
       "      <td>0.026581</td>\n",
       "      <td>0.001348</td>\n",
       "      <td>0.010748</td>\n",
       "      <td>1.000000</td>\n",
       "      <td>0.953389</td>\n",
       "      <td>0.004818</td>\n",
       "      <td>-0.057184</td>\n",
       "      <td>-0.282108</td>\n",
       "      <td>-0.004805</td>\n",
       "      <td>-0.003648</td>\n",
       "      <td>0.021569</td>\n",
       "    </tr>\n",
       "    <tr>\n",
       "      <th>base_price</th>\n",
       "      <td>0.002909</td>\n",
       "      <td>0.028614</td>\n",
       "      <td>0.000604</td>\n",
       "      <td>0.002605</td>\n",
       "      <td>0.953389</td>\n",
       "      <td>1.000000</td>\n",
       "      <td>0.171173</td>\n",
       "      <td>0.057156</td>\n",
       "      <td>-0.222306</td>\n",
       "      <td>-0.002054</td>\n",
       "      <td>-0.001934</td>\n",
       "      <td>0.018031</td>\n",
       "    </tr>\n",
       "    <tr>\n",
       "      <th>emailer_for_promotion</th>\n",
       "      <td>0.002001</td>\n",
       "      <td>-0.000841</td>\n",
       "      <td>0.013658</td>\n",
       "      <td>0.013402</td>\n",
       "      <td>0.004818</td>\n",
       "      <td>0.171173</td>\n",
       "      <td>1.000000</td>\n",
       "      <td>0.390534</td>\n",
       "      <td>0.277147</td>\n",
       "      <td>-0.005234</td>\n",
       "      <td>-0.007462</td>\n",
       "      <td>-0.019462</td>\n",
       "    </tr>\n",
       "    <tr>\n",
       "      <th>homepage_featured</th>\n",
       "      <td>0.003111</td>\n",
       "      <td>-0.008263</td>\n",
       "      <td>-0.005043</td>\n",
       "      <td>0.016354</td>\n",
       "      <td>-0.057184</td>\n",
       "      <td>0.057156</td>\n",
       "      <td>0.390534</td>\n",
       "      <td>1.000000</td>\n",
       "      <td>0.294490</td>\n",
       "      <td>0.008640</td>\n",
       "      <td>0.003605</td>\n",
       "      <td>0.041498</td>\n",
       "    </tr>\n",
       "    <tr>\n",
       "      <th>num_orders</th>\n",
       "      <td>0.000702</td>\n",
       "      <td>-0.017210</td>\n",
       "      <td>-0.053035</td>\n",
       "      <td>0.010597</td>\n",
       "      <td>-0.282108</td>\n",
       "      <td>-0.222306</td>\n",
       "      <td>0.277147</td>\n",
       "      <td>0.294490</td>\n",
       "      <td>1.000000</td>\n",
       "      <td>0.041596</td>\n",
       "      <td>0.029744</td>\n",
       "      <td>0.176976</td>\n",
       "    </tr>\n",
       "    <tr>\n",
       "      <th>city_code</th>\n",
       "      <td>-0.000387</td>\n",
       "      <td>0.000405</td>\n",
       "      <td>0.061078</td>\n",
       "      <td>-0.003198</td>\n",
       "      <td>-0.004805</td>\n",
       "      <td>-0.002054</td>\n",
       "      <td>-0.005234</td>\n",
       "      <td>0.008640</td>\n",
       "      <td>0.041596</td>\n",
       "      <td>1.000000</td>\n",
       "      <td>0.042686</td>\n",
       "      <td>0.131476</td>\n",
       "    </tr>\n",
       "    <tr>\n",
       "      <th>region_code</th>\n",
       "      <td>-0.000648</td>\n",
       "      <td>0.004600</td>\n",
       "      <td>-0.003426</td>\n",
       "      <td>-0.001662</td>\n",
       "      <td>-0.003648</td>\n",
       "      <td>-0.001934</td>\n",
       "      <td>-0.007462</td>\n",
       "      <td>0.003605</td>\n",
       "      <td>0.029744</td>\n",
       "      <td>0.042686</td>\n",
       "      <td>1.000000</td>\n",
       "      <td>0.023327</td>\n",
       "    </tr>\n",
       "    <tr>\n",
       "      <th>op_area</th>\n",
       "      <td>-0.000090</td>\n",
       "      <td>0.001550</td>\n",
       "      <td>-0.111869</td>\n",
       "      <td>-0.001546</td>\n",
       "      <td>0.021569</td>\n",
       "      <td>0.018031</td>\n",
       "      <td>-0.019462</td>\n",
       "      <td>0.041498</td>\n",
       "      <td>0.176976</td>\n",
       "      <td>0.131476</td>\n",
       "      <td>0.023327</td>\n",
       "      <td>1.000000</td>\n",
       "    </tr>\n",
       "  </tbody>\n",
       "</table>\n",
       "</div>"
      ],
      "text/plain": [
       "                             id      week  center_id   meal_id  \\\n",
       "id                     1.000000  0.002225   0.002641  0.000488   \n",
       "week                   0.002225  1.000000  -0.003450  0.019814   \n",
       "center_id              0.002641 -0.003450   1.000000  0.009893   \n",
       "meal_id                0.000488  0.019814   0.009893  1.000000   \n",
       "checkout_price         0.001941  0.026581   0.001348  0.010748   \n",
       "base_price             0.002909  0.028614   0.000604  0.002605   \n",
       "emailer_for_promotion  0.002001 -0.000841   0.013658  0.013402   \n",
       "homepage_featured      0.003111 -0.008263  -0.005043  0.016354   \n",
       "num_orders             0.000702 -0.017210  -0.053035  0.010597   \n",
       "city_code             -0.000387  0.000405   0.061078 -0.003198   \n",
       "region_code           -0.000648  0.004600  -0.003426 -0.001662   \n",
       "op_area               -0.000090  0.001550  -0.111869 -0.001546   \n",
       "\n",
       "                       checkout_price  base_price  emailer_for_promotion  \\\n",
       "id                           0.001941    0.002909               0.002001   \n",
       "week                         0.026581    0.028614              -0.000841   \n",
       "center_id                    0.001348    0.000604               0.013658   \n",
       "meal_id                      0.010748    0.002605               0.013402   \n",
       "checkout_price               1.000000    0.953389               0.004818   \n",
       "base_price                   0.953389    1.000000               0.171173   \n",
       "emailer_for_promotion        0.004818    0.171173               1.000000   \n",
       "homepage_featured           -0.057184    0.057156               0.390534   \n",
       "num_orders                  -0.282108   -0.222306               0.277147   \n",
       "city_code                   -0.004805   -0.002054              -0.005234   \n",
       "region_code                 -0.003648   -0.001934              -0.007462   \n",
       "op_area                      0.021569    0.018031              -0.019462   \n",
       "\n",
       "                       homepage_featured  num_orders  city_code  region_code  \\\n",
       "id                              0.003111    0.000702  -0.000387    -0.000648   \n",
       "week                           -0.008263   -0.017210   0.000405     0.004600   \n",
       "center_id                      -0.005043   -0.053035   0.061078    -0.003426   \n",
       "meal_id                         0.016354    0.010597  -0.003198    -0.001662   \n",
       "checkout_price                 -0.057184   -0.282108  -0.004805    -0.003648   \n",
       "base_price                      0.057156   -0.222306  -0.002054    -0.001934   \n",
       "emailer_for_promotion           0.390534    0.277147  -0.005234    -0.007462   \n",
       "homepage_featured               1.000000    0.294490   0.008640     0.003605   \n",
       "num_orders                      0.294490    1.000000   0.041596     0.029744   \n",
       "city_code                       0.008640    0.041596   1.000000     0.042686   \n",
       "region_code                     0.003605    0.029744   0.042686     1.000000   \n",
       "op_area                         0.041498    0.176976   0.131476     0.023327   \n",
       "\n",
       "                        op_area  \n",
       "id                    -0.000090  \n",
       "week                   0.001550  \n",
       "center_id             -0.111869  \n",
       "meal_id               -0.001546  \n",
       "checkout_price         0.021569  \n",
       "base_price             0.018031  \n",
       "emailer_for_promotion -0.019462  \n",
       "homepage_featured      0.041498  \n",
       "num_orders             0.176976  \n",
       "city_code              0.131476  \n",
       "region_code            0.023327  \n",
       "op_area                1.000000  "
      ]
     },
     "execution_count": 20,
     "metadata": {},
     "output_type": "execute_result"
    }
   ],
   "source": [
    "correlation= df.corr()\n",
    "correlation"
   ]
  },
  {
   "cell_type": "code",
   "execution_count": 21,
   "metadata": {},
   "outputs": [
    {
     "data": {
      "text/plain": [
       "<matplotlib.axes._subplots.AxesSubplot at 0x2d89a8c9908>"
      ]
     },
     "execution_count": 21,
     "metadata": {},
     "output_type": "execute_result"
    },
    {
     "data": {
      "image/png": "[encoded data removed]",
      "text/plain": [
       "<Figure size 720x360 with 2 Axes>"
      ]
     },
     "metadata": {
      "needs_background": "light"
     },
     "output_type": "display_data"
    }
   ],
   "source": [
    "plt.figure(figsize=(10,5))\n",
    "sns.heatmap(correlation, annot= True)"
   ]
  },
  {
   "cell_type": "markdown",
   "metadata": {},
   "source": [
    "base_price and  checkout_price are highly correlated(0.95). So we can drop one column.(We are going to drop checkout_price)"
   ]
  },
  {
   "cell_type": "code",
   "execution_count": 22,
   "metadata": {},
   "outputs": [
    {
     "data": {
      "text/plain": [
       "<matplotlib.axes._subplots.AxesSubplot at 0x2d89beea3c8>"
      ]
     },
     "execution_count": 22,
     "metadata": {},
     "output_type": "execute_result"
    },
    {
     "data": {
      "image/png": "[encoded data removed]",
      "text/plain": [
       "<Figure size 432x288 with 1 Axes>"
      ]
     },
     "metadata": {
      "needs_background": "light"
     },
     "output_type": "display_data"
    }
   ],
   "source": [
    "sns.lineplot(df['week'], df['num_orders'])"
   ]
  },
  {
   "cell_type": "code",
   "execution_count": 23,
   "metadata": {},
   "outputs": [
    {
     "data": {
      "text/plain": [
       "(array([ 0,  1,  2,  3,  4,  5,  6,  7,  8,  9, 10, 11, 12, 13, 14, 15, 16,\n",
       "        17, 18, 19, 20, 21, 22, 23, 24, 25, 26, 27, 28, 29, 30, 31, 32, 33,\n",
       "        34, 35, 36, 37, 38, 39, 40, 41, 42, 43, 44, 45, 46, 47, 48, 49, 50]),\n",
       " <a list of 51 Text xticklabel objects>)"
      ]
     },
     "execution_count": 23,
     "metadata": {},
     "output_type": "execute_result"
    },
    {
     "data": {
      "image/png": "[encoded data removed]",
      "text/plain": [
       "<Figure size 720x360 with 1 Axes>"
      ]
     },
     "metadata": {
      "needs_background": "light"
     },
     "output_type": "display_data"
    }
   ],
   "source": [
    "plt.figure(figsize= (10,5))\n",
    "sns.barplot(df['meal_id'], df['num_orders'])\n",
    "plt.xticks(rotation=90)"
   ]
  },
  {
   "cell_type": "code",
   "execution_count": 24,
   "metadata": {},
   "outputs": [
    {
     "data": {
      "text/plain": [
       "(array([ 0,  1,  2,  3,  4,  5,  6,  7,  8,  9, 10, 11, 12, 13, 14, 15, 16,\n",
       "        17, 18, 19, 20, 21, 22, 23, 24, 25, 26, 27, 28, 29, 30, 31, 32, 33,\n",
       "        34, 35, 36, 37, 38, 39, 40, 41, 42, 43, 44, 45, 46, 47, 48, 49, 50,\n",
       "        51, 52, 53, 54, 55, 56, 57, 58, 59, 60, 61, 62, 63, 64, 65, 66, 67,\n",
       "        68, 69, 70, 71, 72, 73, 74, 75, 76]),\n",
       " <a list of 77 Text xticklabel objects>)"
      ]
     },
     "execution_count": 24,
     "metadata": {},
     "output_type": "execute_result"
    },
    {
     "data": {
      "image/png": "[encoded data removed]",
      "text/plain": [
       "<Figure size 1440x360 with 1 Axes>"
      ]
     },
     "metadata": {
      "needs_background": "light"
     },
     "output_type": "display_data"
    }
   ],
   "source": [
    "plt.figure(figsize= (20,5))\n",
    "sns.barplot(df['center_id'], df['num_orders'])\n",
    "plt.xticks(rotation=90)"
   ]
  },
  {
   "cell_type": "code",
   "execution_count": 25,
   "metadata": {},
   "outputs": [
    {
     "data": {
      "text/plain": [
       "(array([ 0,  1,  2,  3,  4,  5,  6,  7,  8,  9, 10, 11, 12, 13, 14, 15, 16,\n",
       "        17, 18, 19, 20, 21, 22, 23, 24, 25, 26, 27, 28, 29, 30, 31, 32, 33,\n",
       "        34, 35, 36, 37, 38, 39, 40, 41, 42, 43, 44, 45, 46, 47, 48, 49, 50]),\n",
       " <a list of 51 Text xticklabel objects>)"
      ]
     },
     "execution_count": 25,
     "metadata": {},
     "output_type": "execute_result"
    },
    {
     "data": {
      "image/png": "[encoded data removed]",
      "text/plain": [
       "<Figure size 720x360 with 1 Axes>"
      ]
     },
     "metadata": {
      "needs_background": "light"
     },
     "output_type": "display_data"
    }
   ],
   "source": [
    "plt.figure(figsize= (10,5))\n",
    "sns.barplot(df['city_code'], df['num_orders'])\n",
    "plt.xticks(rotation=90)"
   ]
  },
  {
   "cell_type": "code",
   "execution_count": 26,
   "metadata": {},
   "outputs": [
    {
     "data": {
      "text/plain": [
       "(array([0, 1, 2, 3, 4, 5, 6, 7]), <a list of 8 Text xticklabel objects>)"
      ]
     },
     "execution_count": 26,
     "metadata": {},
     "output_type": "execute_result"
    },
    {
     "data": {
      "image/png": "[encoded data removed]",
      "text/plain": [
       "<Figure size 720x360 with 1 Axes>"
      ]
     },
     "metadata": {
      "needs_background": "light"
     },
     "output_type": "display_data"
    }
   ],
   "source": [
    "plt.figure(figsize= (10,5))\n",
    "sns.barplot(df['region_code'], df['num_orders'])\n",
    "plt.xticks(rotation=90)"
   ]
  },
  {
   "cell_type": "code",
   "execution_count": 27,
   "metadata": {},
   "outputs": [
    {
     "data": {
      "text/plain": [
       "(array([ 0,  1,  2,  3,  4,  5,  6,  7,  8,  9, 10, 11, 12, 13, 14, 15, 16,\n",
       "        17, 18, 19, 20, 21, 22, 23, 24, 25, 26, 27, 28, 29]),\n",
       " <a list of 30 Text xticklabel objects>)"
      ]
     },
     "execution_count": 27,
     "metadata": {},
     "output_type": "execute_result"
    },
    {
     "data": {
      "image/png": "[encoded data removed]",
      "text/plain": [
       "<Figure size 720x360 with 1 Axes>"
      ]
     },
     "metadata": {
      "needs_background": "light"
     },
     "output_type": "display_data"
    }
   ],
   "source": [
    "plt.figure(figsize= (10,5))\n",
    "sns.barplot(df['op_area'], df['num_orders'])\n",
    "plt.xticks(rotation=90)"
   ]
  },
  {
   "cell_type": "code",
   "execution_count": 28,
   "metadata": {},
   "outputs": [
    {
     "data": {
      "text/plain": [
       "<matplotlib.axes._subplots.AxesSubplot at 0x2d89c6c4278>"
      ]
     },
     "execution_count": 28,
     "metadata": {},
     "output_type": "execute_result"
    },
    {
     "data": {
      "image/png": "[encoded data removed]",
      "text/plain": [
       "<Figure size 720x360 with 1 Axes>"
      ]
     },
     "metadata": {
      "needs_background": "light"
     },
     "output_type": "display_data"
    }
   ],
   "source": [
    "plt.figure(figsize= (10,5))\n",
    "sns.boxplot(df['num_orders'])"
   ]
  },
  {
   "cell_type": "code",
   "execution_count": 29,
   "metadata": {},
   "outputs": [],
   "source": [
    "#Remove outliers\n",
    "o= df[df['num_orders']>15000].index\n",
    "df= df.drop(o)"
   ]
  },
  {
   "cell_type": "code",
   "execution_count": 30,
   "metadata": {},
   "outputs": [],
   "source": [
    "l=['center_type','op_area','cuisine','category']\n",
    "le=LabelEncoder()\n",
    "for i in l:\n",
    "    df[i]= le.fit_transform(df[i])"
   ]
  },
  {
   "cell_type": "code",
   "execution_count": 31,
   "metadata": {},
   "outputs": [
    {
     "data": {
      "text/html": [
       "<div>\n",
       "<style scoped>\n",
       "    .dataframe tbody tr th:only-of-type {\n",
       "        vertical-align: middle;\n",
       "    }\n",
       "\n",
       "    .dataframe tbody tr th {\n",
       "        vertical-align: top;\n",
       "    }\n",
       "\n",
       "    .dataframe thead th {\n",
       "        text-align: right;\n",
       "    }\n",
       "</style>\n",
       "<table border=\"1\" class=\"dataframe\">\n",
       "  <thead>\n",
       "    <tr style=\"text-align: right;\">\n",
       "      <th></th>\n",
       "      <th>id</th>\n",
       "      <th>week</th>\n",
       "      <th>center_id</th>\n",
       "      <th>meal_id</th>\n",
       "      <th>checkout_price</th>\n",
       "      <th>base_price</th>\n",
       "      <th>emailer_for_promotion</th>\n",
       "      <th>homepage_featured</th>\n",
       "      <th>num_orders</th>\n",
       "      <th>city_code</th>\n",
       "      <th>region_code</th>\n",
       "      <th>center_type</th>\n",
       "      <th>op_area</th>\n",
       "      <th>category</th>\n",
       "      <th>cuisine</th>\n",
       "    </tr>\n",
       "  </thead>\n",
       "  <tbody>\n",
       "    <tr>\n",
       "      <th>0</th>\n",
       "      <td>1379560</td>\n",
       "      <td>1</td>\n",
       "      <td>55</td>\n",
       "      <td>1885</td>\n",
       "      <td>136.83</td>\n",
       "      <td>152.29</td>\n",
       "      <td>0</td>\n",
       "      <td>0</td>\n",
       "      <td>177</td>\n",
       "      <td>647</td>\n",
       "      <td>56</td>\n",
       "      <td>2</td>\n",
       "      <td>2</td>\n",
       "      <td>0</td>\n",
       "      <td>3</td>\n",
       "    </tr>\n",
       "    <tr>\n",
       "      <th>1</th>\n",
       "      <td>1018704</td>\n",
       "      <td>2</td>\n",
       "      <td>55</td>\n",
       "      <td>1885</td>\n",
       "      <td>135.83</td>\n",
       "      <td>152.29</td>\n",
       "      <td>0</td>\n",
       "      <td>0</td>\n",
       "      <td>323</td>\n",
       "      <td>647</td>\n",
       "      <td>56</td>\n",
       "      <td>2</td>\n",
       "      <td>2</td>\n",
       "      <td>0</td>\n",
       "      <td>3</td>\n",
       "    </tr>\n",
       "    <tr>\n",
       "      <th>2</th>\n",
       "      <td>1196273</td>\n",
       "      <td>3</td>\n",
       "      <td>55</td>\n",
       "      <td>1885</td>\n",
       "      <td>132.92</td>\n",
       "      <td>133.92</td>\n",
       "      <td>0</td>\n",
       "      <td>0</td>\n",
       "      <td>96</td>\n",
       "      <td>647</td>\n",
       "      <td>56</td>\n",
       "      <td>2</td>\n",
       "      <td>2</td>\n",
       "      <td>0</td>\n",
       "      <td>3</td>\n",
       "    </tr>\n",
       "    <tr>\n",
       "      <th>3</th>\n",
       "      <td>1116527</td>\n",
       "      <td>4</td>\n",
       "      <td>55</td>\n",
       "      <td>1885</td>\n",
       "      <td>135.86</td>\n",
       "      <td>134.86</td>\n",
       "      <td>0</td>\n",
       "      <td>0</td>\n",
       "      <td>163</td>\n",
       "      <td>647</td>\n",
       "      <td>56</td>\n",
       "      <td>2</td>\n",
       "      <td>2</td>\n",
       "      <td>0</td>\n",
       "      <td>3</td>\n",
       "    </tr>\n",
       "    <tr>\n",
       "      <th>4</th>\n",
       "      <td>1343872</td>\n",
       "      <td>5</td>\n",
       "      <td>55</td>\n",
       "      <td>1885</td>\n",
       "      <td>146.50</td>\n",
       "      <td>147.50</td>\n",
       "      <td>0</td>\n",
       "      <td>0</td>\n",
       "      <td>215</td>\n",
       "      <td>647</td>\n",
       "      <td>56</td>\n",
       "      <td>2</td>\n",
       "      <td>2</td>\n",
       "      <td>0</td>\n",
       "      <td>3</td>\n",
       "    </tr>\n",
       "  </tbody>\n",
       "</table>\n",
       "</div>"
      ],
      "text/plain": [
       "        id  week  center_id  meal_id  checkout_price  base_price  \\\n",
       "0  1379560     1         55     1885          136.83      152.29   \n",
       "1  1018704     2         55     1885          135.83      152.29   \n",
       "2  1196273     3         55     1885          132.92      133.92   \n",
       "3  1116527     4         55     1885          135.86      134.86   \n",
       "4  1343872     5         55     1885          146.50      147.50   \n",
       "\n",
       "   emailer_for_promotion  homepage_featured  num_orders  city_code  \\\n",
       "0                      0                  0         177        647   \n",
       "1                      0                  0         323        647   \n",
       "2                      0                  0          96        647   \n",
       "3                      0                  0         163        647   \n",
       "4                      0                  0         215        647   \n",
       "\n",
       "   region_code  center_type  op_area  category  cuisine  \n",
       "0           56            2        2         0        3  \n",
       "1           56            2        2         0        3  \n",
       "2           56            2        2         0        3  \n",
       "3           56            2        2         0        3  \n",
       "4           56            2        2         0        3  "
      ]
     },
     "execution_count": 31,
     "metadata": {},
     "output_type": "execute_result"
    }
   ],
   "source": [
    "df.head()"
   ]
  },
  {
   "cell_type": "code",
   "execution_count": 32,
   "metadata": {},
   "outputs": [],
   "source": [
    "x= df.drop(['id','num_orders','checkout_price'],axis=1)\n",
    "y= df['num_orders']"
   ]
  },
  {
   "cell_type": "code",
   "execution_count": 33,
   "metadata": {},
   "outputs": [
    {
     "data": {
      "text/plain": [
       "0"
      ]
     },
     "execution_count": 33,
     "metadata": {},
     "output_type": "execute_result"
    }
   ],
   "source": [
    "y.isnull().sum()"
   ]
  },
  {
   "cell_type": "code",
   "execution_count": 34,
   "metadata": {},
   "outputs": [
    {
     "name": "stdout",
     "output_type": "stream",
     "text": [
      "<class 'pandas.core.frame.DataFrame'>\n",
      "Int64Index: 456546 entries, 0 to 456547\n",
      "Data columns (total 12 columns):\n",
      "week                     456546 non-null int64\n",
      "center_id                456546 non-null int64\n",
      "meal_id                  456546 non-null int64\n",
      "base_price               456546 non-null float64\n",
      "emailer_for_promotion    456546 non-null int64\n",
      "homepage_featured        456546 non-null int64\n",
      "city_code                456546 non-null int64\n",
      "region_code              456546 non-null int64\n",
      "center_type              456546 non-null int32\n",
      "op_area                  456546 non-null int64\n",
      "category                 456546 non-null int32\n",
      "cuisine                  456546 non-null int32\n",
      "dtypes: float64(1), int32(3), int64(8)\n",
      "memory usage: 40.1 MB\n"
     ]
    }
   ],
   "source": [
    "x.info()"
   ]
  },
  {
   "cell_type": "code",
   "execution_count": 35,
   "metadata": {},
   "outputs": [],
   "source": [
    "x_train, x_valid, y_train, y_valid= train_test_split(x,y,test_size=0.2, random_state=23)"
   ]
  },
  {
   "cell_type": "code",
   "execution_count": 36,
   "metadata": {},
   "outputs": [
    {
     "name": "stdout",
     "output_type": "stream",
     "text": [
      "RMSE: 161.82954560751702\n",
      "RMSLE: 50.88728269333873\n"
     ]
    }
   ],
   "source": [
    "#Random Forest Regressor\n",
    "model= RandomForestRegressor(n_estimators= 20, n_jobs=-1, random_state=35)\n",
    "model.fit(x_train,y_train)\n",
    "pred1= model.predict(x_valid)\n",
    "print(\"RMSE:\", np.sqrt(mean_squared_error(y_valid,pred1)))\n",
    "print(\"RMSLE:\", np.sqrt(mean_squared_log_error(y_valid,pred1))*100)"
   ]
  },
  {
   "cell_type": "code",
   "execution_count": 37,
   "metadata": {},
   "outputs": [
    {
     "name": "stdout",
     "output_type": "stream",
     "text": [
      "RMSE: 175.33153758642683\n"
     ]
    },
    {
     "ename": "ValueError",
     "evalue": "Mean Squared Logarithmic Error cannot be used when targets contain negative values.",
     "output_type": "error",
     "traceback": [
      "\u001b[1;31m---------------------------------------------------------------------------\u001b[0m",
      "\u001b[1;31mValueError\u001b[0m                                Traceback (most recent call last)",
      "\u001b[1;32m<ipython-input-37-1c9b8adaf250>\u001b[0m in \u001b[0;36m<module>\u001b[1;34m\u001b[0m\n\u001b[0;32m      4\u001b[0m \u001b[0mpred2\u001b[0m\u001b[1;33m=\u001b[0m \u001b[0mmodel1\u001b[0m\u001b[1;33m.\u001b[0m\u001b[0mpredict\u001b[0m\u001b[1;33m(\u001b[0m\u001b[0mx_valid\u001b[0m\u001b[1;33m)\u001b[0m\u001b[1;33m\u001b[0m\u001b[1;33m\u001b[0m\u001b[0m\n\u001b[0;32m      5\u001b[0m \u001b[0mprint\u001b[0m\u001b[1;33m(\u001b[0m\u001b[1;34m\"RMSE:\"\u001b[0m\u001b[1;33m,\u001b[0m \u001b[0mnp\u001b[0m\u001b[1;33m.\u001b[0m\u001b[0msqrt\u001b[0m\u001b[1;33m(\u001b[0m\u001b[0mmean_squared_error\u001b[0m\u001b[1;33m(\u001b[0m\u001b[0my_valid\u001b[0m\u001b[1;33m,\u001b[0m\u001b[0mpred2\u001b[0m\u001b[1;33m)\u001b[0m\u001b[1;33m)\u001b[0m\u001b[1;33m)\u001b[0m\u001b[1;33m\u001b[0m\u001b[1;33m\u001b[0m\u001b[0m\n\u001b[1;32m----> 6\u001b[1;33m \u001b[0mprint\u001b[0m\u001b[1;33m(\u001b[0m\u001b[1;34m\"RMSLE:\"\u001b[0m\u001b[1;33m,\u001b[0m \u001b[0mnp\u001b[0m\u001b[1;33m.\u001b[0m\u001b[0msqrt\u001b[0m\u001b[1;33m(\u001b[0m\u001b[0mmean_squared_log_error\u001b[0m\u001b[1;33m(\u001b[0m\u001b[0my_valid\u001b[0m\u001b[1;33m,\u001b[0m\u001b[0mpred2\u001b[0m\u001b[1;33m)\u001b[0m\u001b[1;33m)\u001b[0m\u001b[1;33m*\u001b[0m\u001b[1;36m100\u001b[0m\u001b[1;33m)\u001b[0m\u001b[1;33m\u001b[0m\u001b[1;33m\u001b[0m\u001b[0m\n\u001b[0m",
      "\u001b[1;32m~\\AppData\\Local\\Continuum\\anaconda3\\lib\\site-packages\\sklearn\\metrics\\regression.py\u001b[0m in \u001b[0;36mmean_squared_log_error\u001b[1;34m(y_true, y_pred, sample_weight, multioutput)\u001b[0m\n\u001b[0;32m    312\u001b[0m \u001b[1;33m\u001b[0m\u001b[0m\n\u001b[0;32m    313\u001b[0m     \u001b[1;32mif\u001b[0m \u001b[1;33m(\u001b[0m\u001b[0my_true\u001b[0m \u001b[1;33m<\u001b[0m \u001b[1;36m0\u001b[0m\u001b[1;33m)\u001b[0m\u001b[1;33m.\u001b[0m\u001b[0many\u001b[0m\u001b[1;33m(\u001b[0m\u001b[1;33m)\u001b[0m \u001b[1;32mor\u001b[0m \u001b[1;33m(\u001b[0m\u001b[0my_pred\u001b[0m \u001b[1;33m<\u001b[0m \u001b[1;36m0\u001b[0m\u001b[1;33m)\u001b[0m\u001b[1;33m.\u001b[0m\u001b[0many\u001b[0m\u001b[1;33m(\u001b[0m\u001b[1;33m)\u001b[0m\u001b[1;33m:\u001b[0m\u001b[1;33m\u001b[0m\u001b[1;33m\u001b[0m\u001b[0m\n\u001b[1;32m--> 314\u001b[1;33m         raise ValueError(\"Mean Squared Logarithmic Error cannot be used when \"\n\u001b[0m\u001b[0;32m    315\u001b[0m                          \"targets contain negative values.\")\n\u001b[0;32m    316\u001b[0m \u001b[1;33m\u001b[0m\u001b[0m\n",
      "\u001b[1;31mValueError\u001b[0m: Mean Squared Logarithmic Error cannot be used when targets contain negative values."
     ]
    }
   ],
   "source": [
    "#XGBoost Regressor\n",
    "model1= XGBRegressor()\n",
    "model1.fit(x_train,y_train)\n",
    "pred2= model1.predict(x_valid)\n",
    "print(\"RMSE:\", np.sqrt(mean_squared_error(y_valid,pred2)))\n",
    "print(\"RMSLE:\", np.sqrt(mean_squared_log_error(y_valid,pred2))*100)"
   ]
  },
  {
   "cell_type": "markdown",
   "metadata": {},
   "source": [
    "m= RandomForestRegressor(n_estimators= 10, n_jobs=-1, random_state=35)\n",
    "\n",
    "fold = KFold(n_splits=5,shuffle=True,random_state=2019)\n",
    "\n",
    "for train_index, test_index in fold.split(x,y):\n",
    "    X_train, X_valid = x.iloc[train_index], x.iloc[test_index]\n",
    "    y_train, y_valid = y[train_index], y[test_index]\n",
    "    m.fit(X_train,y_train)\n",
    "    preds = m.predict(X_valid)\n",
    "    print(\"err: \",np.sqrt(mean_squared_error(y_valid,preds)))"
   ]
  },
  {
   "cell_type": "code",
   "execution_count": 38,
   "metadata": {},
   "outputs": [],
   "source": [
    "weekly_data_test= pd.read_csv(r\"C:\\Users\\91758\\Downloads\\Food Demand Forecasting\\test_QoiMO9B.csv\")"
   ]
  },
  {
   "cell_type": "code",
   "execution_count": 39,
   "metadata": {},
   "outputs": [],
   "source": [
    "df_test= pd.merge(weekly_data_test,fulfilment, on='center_id')\n",
    "df_test= pd.merge(df_test,meal, on='meal_id')"
   ]
  },
  {
   "cell_type": "code",
   "execution_count": 40,
   "metadata": {},
   "outputs": [
    {
     "data": {
      "text/html": [
       "<div>\n",
       "<style scoped>\n",
       "    .dataframe tbody tr th:only-of-type {\n",
       "        vertical-align: middle;\n",
       "    }\n",
       "\n",
       "    .dataframe tbody tr th {\n",
       "        vertical-align: top;\n",
       "    }\n",
       "\n",
       "    .dataframe thead th {\n",
       "        text-align: right;\n",
       "    }\n",
       "</style>\n",
       "<table border=\"1\" class=\"dataframe\">\n",
       "  <thead>\n",
       "    <tr style=\"text-align: right;\">\n",
       "      <th></th>\n",
       "      <th>id</th>\n",
       "      <th>week</th>\n",
       "      <th>center_id</th>\n",
       "      <th>meal_id</th>\n",
       "      <th>checkout_price</th>\n",
       "      <th>base_price</th>\n",
       "      <th>emailer_for_promotion</th>\n",
       "      <th>homepage_featured</th>\n",
       "      <th>city_code</th>\n",
       "      <th>region_code</th>\n",
       "      <th>center_type</th>\n",
       "      <th>op_area</th>\n",
       "      <th>category</th>\n",
       "      <th>cuisine</th>\n",
       "    </tr>\n",
       "  </thead>\n",
       "  <tbody>\n",
       "    <tr>\n",
       "      <th>0</th>\n",
       "      <td>1028232</td>\n",
       "      <td>146</td>\n",
       "      <td>55</td>\n",
       "      <td>1885</td>\n",
       "      <td>158.11</td>\n",
       "      <td>159.11</td>\n",
       "      <td>0</td>\n",
       "      <td>0</td>\n",
       "      <td>647</td>\n",
       "      <td>56</td>\n",
       "      <td>TYPE_C</td>\n",
       "      <td>2.0</td>\n",
       "      <td>Beverages</td>\n",
       "      <td>Thai</td>\n",
       "    </tr>\n",
       "    <tr>\n",
       "      <th>1</th>\n",
       "      <td>1262649</td>\n",
       "      <td>147</td>\n",
       "      <td>55</td>\n",
       "      <td>1885</td>\n",
       "      <td>159.11</td>\n",
       "      <td>159.11</td>\n",
       "      <td>0</td>\n",
       "      <td>0</td>\n",
       "      <td>647</td>\n",
       "      <td>56</td>\n",
       "      <td>TYPE_C</td>\n",
       "      <td>2.0</td>\n",
       "      <td>Beverages</td>\n",
       "      <td>Thai</td>\n",
       "    </tr>\n",
       "    <tr>\n",
       "      <th>2</th>\n",
       "      <td>1453211</td>\n",
       "      <td>149</td>\n",
       "      <td>55</td>\n",
       "      <td>1885</td>\n",
       "      <td>157.14</td>\n",
       "      <td>158.14</td>\n",
       "      <td>0</td>\n",
       "      <td>0</td>\n",
       "      <td>647</td>\n",
       "      <td>56</td>\n",
       "      <td>TYPE_C</td>\n",
       "      <td>2.0</td>\n",
       "      <td>Beverages</td>\n",
       "      <td>Thai</td>\n",
       "    </tr>\n",
       "    <tr>\n",
       "      <th>3</th>\n",
       "      <td>1262599</td>\n",
       "      <td>150</td>\n",
       "      <td>55</td>\n",
       "      <td>1885</td>\n",
       "      <td>159.14</td>\n",
       "      <td>157.14</td>\n",
       "      <td>0</td>\n",
       "      <td>0</td>\n",
       "      <td>647</td>\n",
       "      <td>56</td>\n",
       "      <td>TYPE_C</td>\n",
       "      <td>2.0</td>\n",
       "      <td>Beverages</td>\n",
       "      <td>Thai</td>\n",
       "    </tr>\n",
       "    <tr>\n",
       "      <th>4</th>\n",
       "      <td>1495848</td>\n",
       "      <td>151</td>\n",
       "      <td>55</td>\n",
       "      <td>1885</td>\n",
       "      <td>160.11</td>\n",
       "      <td>159.11</td>\n",
       "      <td>0</td>\n",
       "      <td>0</td>\n",
       "      <td>647</td>\n",
       "      <td>56</td>\n",
       "      <td>TYPE_C</td>\n",
       "      <td>2.0</td>\n",
       "      <td>Beverages</td>\n",
       "      <td>Thai</td>\n",
       "    </tr>\n",
       "  </tbody>\n",
       "</table>\n",
       "</div>"
      ],
      "text/plain": [
       "        id  week  center_id  meal_id  checkout_price  base_price  \\\n",
       "0  1028232   146         55     1885          158.11      159.11   \n",
       "1  1262649   147         55     1885          159.11      159.11   \n",
       "2  1453211   149         55     1885          157.14      158.14   \n",
       "3  1262599   150         55     1885          159.14      157.14   \n",
       "4  1495848   151         55     1885          160.11      159.11   \n",
       "\n",
       "   emailer_for_promotion  homepage_featured  city_code  region_code  \\\n",
       "0                      0                  0        647           56   \n",
       "1                      0                  0        647           56   \n",
       "2                      0                  0        647           56   \n",
       "3                      0                  0        647           56   \n",
       "4                      0                  0        647           56   \n",
       "\n",
       "  center_type  op_area   category cuisine  \n",
       "0      TYPE_C      2.0  Beverages    Thai  \n",
       "1      TYPE_C      2.0  Beverages    Thai  \n",
       "2      TYPE_C      2.0  Beverages    Thai  \n",
       "3      TYPE_C      2.0  Beverages    Thai  \n",
       "4      TYPE_C      2.0  Beverages    Thai  "
      ]
     },
     "execution_count": 40,
     "metadata": {},
     "output_type": "execute_result"
    }
   ],
   "source": [
    "df_test.head()"
   ]
  },
  {
   "cell_type": "code",
   "execution_count": 41,
   "metadata": {},
   "outputs": [
    {
     "name": "stdout",
     "output_type": "stream",
     "text": [
      "<class 'pandas.core.frame.DataFrame'>\n",
      "Int64Index: 32573 entries, 0 to 32572\n",
      "Data columns (total 14 columns):\n",
      "id                       32573 non-null int64\n",
      "week                     32573 non-null int64\n",
      "center_id                32573 non-null int64\n",
      "meal_id                  32573 non-null int64\n",
      "checkout_price           32573 non-null float64\n",
      "base_price               32573 non-null float64\n",
      "emailer_for_promotion    32573 non-null int64\n",
      "homepage_featured        32573 non-null int64\n",
      "city_code                32573 non-null int64\n",
      "region_code              32573 non-null int64\n",
      "center_type              32573 non-null object\n",
      "op_area                  32573 non-null float64\n",
      "category                 32573 non-null object\n",
      "cuisine                  32573 non-null object\n",
      "dtypes: float64(3), int64(8), object(3)\n",
      "memory usage: 3.7+ MB\n"
     ]
    }
   ],
   "source": [
    "df_test.info()"
   ]
  },
  {
   "cell_type": "code",
   "execution_count": 42,
   "metadata": {},
   "outputs": [],
   "source": [
    "for i in l:\n",
    "    df_test[i]= le.fit_transform(df_test[i])"
   ]
  },
  {
   "cell_type": "code",
   "execution_count": 43,
   "metadata": {},
   "outputs": [],
   "source": [
    "x_test= df_test.drop(['id','checkout_price'],axis=1)"
   ]
  },
  {
   "cell_type": "code",
   "execution_count": 44,
   "metadata": {},
   "outputs": [],
   "source": [
    "prediction= model.predict(x_test)"
   ]
  },
  {
   "cell_type": "code",
   "execution_count": 45,
   "metadata": {},
   "outputs": [],
   "source": [
    "pre= pd.Series(prediction)"
   ]
  },
  {
   "cell_type": "code",
   "execution_count": 46,
   "metadata": {},
   "outputs": [],
   "source": [
    "dataframe= pd.concat([df_test['id'], pre], axis=1)\n",
    "dataframe.columns=['id','num_orders']"
   ]
  },
  {
   "cell_type": "code",
   "execution_count": 47,
   "metadata": {},
   "outputs": [
    {
     "data": {
      "text/html": [
       "<div>\n",
       "<style scoped>\n",
       "    .dataframe tbody tr th:only-of-type {\n",
       "        vertical-align: middle;\n",
       "    }\n",
       "\n",
       "    .dataframe tbody tr th {\n",
       "        vertical-align: top;\n",
       "    }\n",
       "\n",
       "    .dataframe thead th {\n",
       "        text-align: right;\n",
       "    }\n",
       "</style>\n",
       "<table border=\"1\" class=\"dataframe\">\n",
       "  <thead>\n",
       "    <tr style=\"text-align: right;\">\n",
       "      <th></th>\n",
       "      <th>id</th>\n",
       "      <th>num_orders</th>\n",
       "    </tr>\n",
       "  </thead>\n",
       "  <tbody>\n",
       "    <tr>\n",
       "      <th>0</th>\n",
       "      <td>1028232</td>\n",
       "      <td>82.35</td>\n",
       "    </tr>\n",
       "    <tr>\n",
       "      <th>1</th>\n",
       "      <td>1262649</td>\n",
       "      <td>82.35</td>\n",
       "    </tr>\n",
       "    <tr>\n",
       "      <th>2</th>\n",
       "      <td>1453211</td>\n",
       "      <td>82.35</td>\n",
       "    </tr>\n",
       "    <tr>\n",
       "      <th>3</th>\n",
       "      <td>1262599</td>\n",
       "      <td>86.40</td>\n",
       "    </tr>\n",
       "    <tr>\n",
       "      <th>4</th>\n",
       "      <td>1495848</td>\n",
       "      <td>82.35</td>\n",
       "    </tr>\n",
       "  </tbody>\n",
       "</table>\n",
       "</div>"
      ],
      "text/plain": [
       "        id  num_orders\n",
       "0  1028232       82.35\n",
       "1  1262649       82.35\n",
       "2  1453211       82.35\n",
       "3  1262599       86.40\n",
       "4  1495848       82.35"
      ]
     },
     "execution_count": 47,
     "metadata": {},
     "output_type": "execute_result"
    }
   ],
   "source": [
    "dataframe.head()"
   ]
  },
  {
   "cell_type": "code",
   "execution_count": 48,
   "metadata": {},
   "outputs": [],
   "source": [
    "dataframe.to_csv(\"C:/Users/91758/Downloads/Food Demand Forecasting/solution.csv\", index= False)"
   ]
  }
 ],
 "metadata": {
  "kernelspec": {
   "display_name": "Python 3",
   "language": "python",
   "name": "python3"
  },
  "language_info": {
   "codemirror_mode": {
    "name": "ipython",
    "version": 3
   },
   "file_extension": ".py",
   "mimetype": "text/x-python",
   "name": "python",
   "nbconvert_exporter": "python",
   "pygments_lexer": "ipython3",
   "version": "3.7.3"
  }
 },
 "nbformat": 4,
 "nbformat_minor": 2
}
